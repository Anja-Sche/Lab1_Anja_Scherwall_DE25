{
 "cells": [
  {
   "cell_type": "code",
   "execution_count": 83,
   "id": "6cd530ea",
   "metadata": {},
   "outputs": [
    {
     "data": {
      "text/plain": [
       "['>seq1\\ncGTAaccaataaaaaaacaagcttaacctaattc',\n",
       " 'seq2\\nagcttagTTTGGatctggccgggg',\n",
       " 'seq3\\ngcggatttactcCCCCCAAAAANNaggggagagcccagataaatggagtctgtgcgtccaca',\n",
       " 'seq4\\ngcggatttactcaggggagagcccagGGataaatggagtctgtgcgtccaca']"
      ]
     },
     "execution_count": 83,
     "metadata": {},
     "output_type": "execute_result"
    }
   ],
   "source": [
    "with open(\"dna_raw.txt\", \"r\") as f: # Open file safely, will aslo close\n",
    "    data_file = f.read()\n",
    "data_file = data_file.split(\"\\n>\")\n",
    "\n",
    "\n",
    "\n",
    "data_file"
   ]
  },
  {
   "cell_type": "code",
   "execution_count": 84,
   "id": "0db8aa39",
   "metadata": {},
   "outputs": [
    {
     "data": {
      "text/plain": [
       "['cGTAaccaataaaaaaacaagcttaacctaattc',\n",
       " 'agcttagTTTGGatctggccgggg',\n",
       " 'gcggatttactcCCCCCAAAAANNaggggagagcccagataaatggagtctgtgcgtccaca',\n",
       " 'gcggatttactcaggggagagcccagGGataaatggagtctgtgcgtccaca']"
      ]
     },
     "execution_count": 84,
     "metadata": {},
     "output_type": "execute_result"
    }
   ],
   "source": [
    "data_strings = []\n",
    "for data in data_file:\n",
    "    y=data[5:].strip(\"\\n\")\n",
    "    data_strings.append(y)\n",
    "data_strings"
   ]
  },
  {
   "cell_type": "code",
   "execution_count": 85,
   "id": "fc32afd3",
   "metadata": {},
   "outputs": [
    {
     "name": "stdout",
     "output_type": "stream",
     "text": [
      "{'a': 0, 't': 0, 'c': 0, 'g': 0}\n"
     ]
    }
   ],
   "source": [
    "#created a dictionary\n",
    "dna_data = {value: 0 for key, value in enumerate(\"atcg\")}\n",
    "\n",
    "print(dna_data)"
   ]
  },
  {
   "cell_type": "code",
   "execution_count": null,
   "id": "21a30249",
   "metadata": {},
   "outputs": [],
   "source": [
    "#alot of tries and error, finding a way that works and then clean\n",
    "#unsure if I should put it in list and merge with dictionary or do it in another way\n",
    "\n",
    "count =[]\n",
    "count_list = []\n",
    "\n",
    "for x in range(len(data_file)):\n",
    "    a = data_file[x].lower().count(\"a\")\n",
    "    t = data_file[x].lower().count(\"t\")\n",
    "    c = data_file[x].lower().count(\"c\")\n",
    "    g = data_file[x].lower().count(\"g\")\n",
    "    count = a, t, c, g\n",
    "    count_list.append(count)\n",
    "print(count_list)"
   ]
  },
  {
   "cell_type": "code",
   "execution_count": null,
   "id": "19343d36",
   "metadata": {},
   "outputs": [],
   "source": [
    "dna_count=[]\n",
    "x=0\n",
    "for key, value in dna_data.items():\n",
    "    dna_data['a'] = data_file[x].lower().count(\"a\")\n",
    "    dna_data['t'] = data_file[x].lower().count(\"t\")\n",
    "    dna_data['c'] = data_file[x].lower().count(\"c\")\n",
    "    dna_data['g'] = data_file[x].lower().count(\"g\")\n",
    "    #print(dna_data)\n",
    "    dna_count.append(dna_data.copy())\n",
    "    x += 1\n",
    "print(dna_count)\n",
    "#Have to figure out why the append() isn't working or if I need to do something else\n",
    "#found information about using '.copy()' in the comments so that each counted sequence gets added in the list\n",
    "#https://stackoverflow.com/questions/5244810/appending-a-dictionary-to-a-list-i-see-a-pointer-like-behavior"
   ]
  },
  {
   "cell_type": "code",
   "execution_count": 8,
   "id": "29fb5ea0",
   "metadata": {},
   "outputs": [
    {
     "data": {
      "text/plain": [
       "[{'a': 17, 't': 7, 'c': 8, 'g': 2},\n",
       " {'a': 3, 't': 7, 'c': 4, 'g': 10},\n",
       " {'a': 18, 't': 10, 'c': 16, 'g': 16},\n",
       " {'a': 13, 't': 10, 'c': 11, 'g': 18}]"
      ]
     },
     "execution_count": 8,
     "metadata": {},
     "output_type": "execute_result"
    }
   ],
   "source": [
    "result = []\n",
    "for x in range(len(data_strings)):\n",
    "        for key, value in dna_data.items():\n",
    "            dna_data['a'] = data_strings[x].lower().count(\"a\")\n",
    "            dna_data['t'] = data_strings[x].lower().count(\"t\")\n",
    "            dna_data['c'] = data_strings[x].lower().count(\"c\")\n",
    "            dna_data['g'] = data_strings[x].lower().count(\"g\")            \n",
    "        result.append(dna_data.copy())             \n",
    "result\n"
   ]
  },
  {
   "cell_type": "code",
   "execution_count": null,
   "id": "d700ae21",
   "metadata": {},
   "outputs": [],
   "source": [
    "result = []\n",
    "compare = []\n",
    "for x in range(len(data_strings)):\n",
    "        for key, value in dna_data.items():\n",
    "            dna_data['a'] = data_strings[x].lower().count(\"a\")\n",
    "            dna_data['t'] = data_strings[x].lower().count(\"t\")\n",
    "            dna_data['c'] = data_strings[x].lower().count(\"c\")\n",
    "            dna_data['g'] = data_strings[x].lower().count(\"g\")  \n",
    "        letter = list(dna_data.keys())\n",
    "        count = list(dna_data.values())\n",
    "        #print(letter)\n",
    "        #print(count)\n",
    "        compare.append(letter)\n",
    "        compare.append(count)    \n",
    "                  "
   ]
  },
  {
   "cell_type": "code",
   "execution_count": 116,
   "id": "e52c075a",
   "metadata": {},
   "outputs": [
    {
     "name": "stdout",
     "output_type": "stream",
     "text": [
      "[[17, 7, 8, 2], [3, 7, 4, 10], [18, 10, 16, 16], [13, 10, 11, 18]]\n"
     ]
    }
   ],
   "source": [
    "count_result = []\n",
    "for x in range(len(data_strings)):\n",
    "        for key, value in dna_data.items():\n",
    "            dna_data['a'] = data_strings[x].lower().count(\"a\")\n",
    "            dna_data['t'] = data_strings[x].lower().count(\"t\")\n",
    "            dna_data['c'] = data_strings[x].lower().count(\"c\")\n",
    "            dna_data['g'] = data_strings[x].lower().count(\"g\")  \n",
    "                \n",
    "        letters = list(dna_data.keys())\n",
    "        count = list(dna_data.values())        \n",
    "        count_result.append(count)          \n",
    "\n",
    "print(count_result)"
   ]
  },
  {
   "cell_type": "code",
   "execution_count": 117,
   "id": "d83ea5ce",
   "metadata": {},
   "outputs": [],
   "source": [
    "import matplotlib.pyplot as plt\n",
    "import numpy as np\n",
    "\n",
    "with open(\"dna_raw.txt\", \"r\") as f: # Open file safely, will aslo close\n",
    "    data_file = f.read()\n",
    "data_file = data_file.split(\"\\n>\")\n",
    "\n",
    "#clean the sequences \n",
    "data_strings = []\n",
    "for data in data_file:\n",
    "    y=data[5:].strip(\"\\n\")\n",
    "    data_strings.append(y)\n",
    "data_strings\n",
    "\n",
    "#created a dictionary\n",
    "dna_data = {value: 0 for key, value in enumerate(\"atcg\")}\n",
    "\n",
    "#count each letter ad pair with the letter in the dict\n",
    "#put each dict in a new list\n",
    "count_result = []\n",
    "for x in range(len(data_strings)):\n",
    "        for key, value in dna_data.items():\n",
    "            dna_data['a'] = data_strings[x].lower().count(\"a\")\n",
    "            dna_data['t'] = data_strings[x].lower().count(\"t\")\n",
    "            dna_data['c'] = data_strings[x].lower().count(\"c\")\n",
    "            dna_data['g'] = data_strings[x].lower().count(\"g\")  \n",
    "                \n",
    "        letters = list(dna_data.keys())\n",
    "        count = list(dna_data.values())        \n",
    "        count_result.append(count)  "
   ]
  },
  {
   "cell_type": "code",
   "execution_count": null,
   "id": "d5dab83a",
   "metadata": {},
   "outputs": [],
   "source": []
  },
  {
   "cell_type": "code",
   "execution_count": 41,
   "id": "7aba0291",
   "metadata": {},
   "outputs": [
    {
     "data": {
      "image/png": "[encoded data removed]",
      "text/plain": [
       "<Figure size 640x480 with 1 Axes>"
      ]
     },
     "metadata": {},
     "output_type": "display_data"
    }
   ],
   "source": [
    "import matplotlib.pyplot as plt\n",
    "import numpy as np\n",
    "\n",
    "x=0\n",
    "sequence= 1\n",
    "for count in count_result:\n",
    "    count = count_result[x]\n",
    "    plt.bar(letter, count)\n",
    "    plt.xlabel('DNA letters')\n",
    "    plt.ylabel('Frequency')\n",
    "    plt.title(f\"DNA sequence {sequence}\")"
   ]
  },
  {
   "cell_type": "code",
   "execution_count": 132,
   "id": "b9498099",
   "metadata": {},
   "outputs": [],
   "source": [
    "def diagram_result(x):\n",
    "    for count in count_result:\n",
    "        count = count_result[x]\n",
    "        plt.figure()\n",
    "        plt.bar(letter, count)\n",
    "        plt.xlabel('DNA letters')\n",
    "        plt.ylabel('Frequency')\n",
    "        plt.title(f\"DNA sequence {x +1}\")\n",
    "        plt.show()\n",
    "        print(x)\n",
    "        x+=1\n",
    "\n",
    "\n"
   ]
  },
  {
   "cell_type": "code",
   "execution_count": null,
   "id": "c954cd73",
   "metadata": {},
   "outputs": [],
   "source": [
    "i=0\n",
    "print(diagram_result(i))\n",
    "    "
   ]
  },
  {
   "cell_type": "code",
   "execution_count": null,
   "id": "421dd700",
   "metadata": {},
   "outputs": [],
   "source": [
    "\n",
    "\n",
    "# Loopa igenom och skapa ett diagram för varje lista\n",
    "for i, lista in enumerate(count_result):\n",
    "    plt.figure()  # Ny figur för varje diagram\n",
    "    plt.bar(letters, lista)\n",
    "    plt.title(f\"DNA sequence {i+1}\")\n",
    "    plt.ylabel('Frequency')\n",
    "    plt.show()  # Visar ett diagram i taget"
   ]
  },
  {
   "cell_type": "code",
   "execution_count": 3,
   "id": "1906ab9f",
   "metadata": {},
   "outputs": [],
   "source": [
    "def diagram_result(x):\n",
    "    for count in count_result:\n",
    "        count = count_result[x]\n",
    "        plt.figure()\n",
    "        plt.bar(letters, count)\n",
    "        plt.xlabel('DNA letters')\n",
    "        plt.ylabel('Frequency')\n",
    "        plt.title(f\"DNA sequence {x +1}\")\n",
    "        plt.show()        \n",
    "        x+=1"
   ]
  },
  {
   "cell_type": "code",
   "execution_count": null,
   "id": "dcffd480",
   "metadata": {},
   "outputs": [
    {
     "name": "stdout",
     "output_type": "stream",
     "text": [
      "['cGTAaccaataaaaaaacaagcttaacctaattc', 'agcttagTTTGGatctggccgggg', 'gcggatttactcCCCCCAAAAANNaggggagagcccagataaatggagtctgtgcgtccaca\\ngaattcgcacca\\nAATAAAACCTCACCCAT\\nagagcccagaatttactcCCC', 'gcggatttactcaggggagagcccagGGataaatggagtctgtgcgtccaca\\ngaattcgcacca']\n",
      "{'a': 17, 't': 7, 'c': 8, 'g': 2}\n",
      "{'a': 3, 't': 7, 'c': 4, 'g': 10}\n",
      "{'a': 36, 't': 19, 'c': 34, 'g': 21}\n",
      "{'a': 17, 't': 12, 'c': 15, 'g': 20}\n"
     ]
    },
    {
     "data": {
      "image/png": "[encoded data removed]",
      "text/plain": [
       "<Figure size 640x480 with 1 Axes>"
      ]
     },
     "metadata": {},
     "output_type": "display_data"
    },
    {
     "data": {
      "image/png": "[encoded data removed]",
      "text/plain": [
       "<Figure size 640x480 with 1 Axes>"
      ]
     },
     "metadata": {},
     "output_type": "display_data"
    },
    {
     "data": {
      "image/png": "[encoded data removed]",
      "text/plain": [
       "<Figure size 640x480 with 1 Axes>"
      ]
     },
     "metadata": {},
     "output_type": "display_data"
    },
    {
     "data": {
      "image/png": "[encoded data removed]",
      "text/plain": [
       "<Figure size 640x480 with 1 Axes>"
      ]
     },
     "metadata": {},
     "output_type": "display_data"
    },
    {
     "name": "stdout",
     "output_type": "stream",
     "text": [
      "None\n"
     ]
    }
   ],
   "source": [
    "import matplotlib.pyplot as plt\n",
    "import numpy as np\n",
    "\n",
    "with open(\"dna_raw_complicated.txt\", \"r\") as f: # Open file safely, will aslo close\n",
    "    data_file = f.read()\n",
    "data_file = data_file.split(\"\\n>\")\n",
    "\n",
    "#clean the sequences \n",
    "data_strings = []\n",
    "for data in data_file:\n",
    "    y=data[5:].strip(\"\\n\")\n",
    "    data_strings.append(y)\n",
    "data_strings\n",
    "\n",
    "#created a dictionary\n",
    "dna_data = {value: 0 for key, value in enumerate(\"atcg\")}\n",
    "\n",
    "#count each letter ad pair with the letter in the dict\n",
    "#put each dict in a new list\n",
    "count_result = []\n",
    "for x in range(len(data_strings)):\n",
    "        for key, value in dna_data.items():\n",
    "            dna_data['a'] = data_strings[x].lower().count(\"a\")\n",
    "            dna_data['t'] = data_strings[x].lower().count(\"t\")\n",
    "            dna_data['c'] = data_strings[x].lower().count(\"c\")\n",
    "            dna_data['g'] = data_strings[x].lower().count(\"g\")  \n",
    "        print(dna_data)  #to see that I manage to count an put in to dict  \n",
    "        letters = list(dna_data.keys())\n",
    "        count = list(dna_data.values())        \n",
    "        count_result.append(count)\n",
    "\n",
    "i=0\n",
    "print(diagram_result(i))"
   ]
  }
 ],
 "metadata": {
  "kernelspec": {
   "display_name": "Lab1_Anja_Scherwall_DE25",
   "language": "python",
   "name": "python3"
  },
  "language_info": {
   "codemirror_mode": {
    "name": "ipython",
    "version": 3
   },
   "file_extension": ".py",
   "mimetype": "text/x-python",
   "name": "python",
   "nbconvert_exporter": "python",
   "pygments_lexer": "ipython3",
   "version": "3.12.10"
  }
 },
 "nbformat": 4,
 "nbformat_minor": 5
}
