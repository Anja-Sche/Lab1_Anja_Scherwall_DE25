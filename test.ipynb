{
 "cells": [
  {
   "cell_type": "code",
   "execution_count": 6,
   "id": "6cd530ea",
   "metadata": {},
   "outputs": [
    {
     "data": {
      "text/plain": [
       "['>seq1\\ncGTAaccaataaaaaaacaagcttaacctaattc',\n",
       " 'seq2\\nagcttagTTTGGatctggccgggg',\n",
       " 'seq3\\ngcggatttactcCCCCCAAAAANNaggggagagcccagataaatggagtctgtgcgtccaca',\n",
       " 'seq4\\ngcggatttactcaggggagagcccagGGataaatggagtctgtgcgtccaca']"
      ]
     },
     "execution_count": 6,
     "metadata": {},
     "output_type": "execute_result"
    }
   ],
   "source": [
    "with open(\"dna_raw.txt\", \"r\") as f: # Open file safely, will aslo close\n",
    "    data_file = f.read()\n",
    "data_file = data_file.split(\"\\n>\")\n",
    "\n",
    "\n",
    "\n",
    "data_file"
   ]
  },
  {
   "cell_type": "code",
   "execution_count": null,
   "id": "fc32afd3",
   "metadata": {},
   "outputs": [
    {
     "name": "stdout",
     "output_type": "stream",
     "text": [
      "{'a': 0, 't': 0, 'c': 0, 'g': 0}\n"
     ]
    }
   ],
   "source": [
    "#created a dictionary\n",
    "dna_data = {value: 0 for key, value in enumerate(\"atcg\")}\n",
    "\n",
    "print(dna_data)"
   ]
  },
  {
   "cell_type": "code",
   "execution_count": null,
   "id": "21a30249",
   "metadata": {},
   "outputs": [],
   "source": [
    "#alot of tries and error, finding a way that works and then clean\n",
    "#unsure if I should put it in list and merge with dictionary or do it in another way\n",
    "\n",
    "count =[]\n",
    "count_list = []\n",
    "\n",
    "for x in range(len(data_file)):\n",
    "    a = data_file[x].lower().count(\"a\")\n",
    "    t = data_file[x].lower().count(\"t\")\n",
    "    c = data_file[x].lower().count(\"c\")\n",
    "    g = data_file[x].lower().count(\"g\")\n",
    "    count = a, t, c, g\n",
    "    count_list.append(count)\n",
    "print(count_list)"
   ]
  },
  {
   "cell_type": "code",
   "execution_count": 8,
   "id": "29fb5ea0",
   "metadata": {},
   "outputs": [
    {
     "data": {
      "text/plain": [
       "[{'a': 17, 't': 7, 'c': 8, 'g': 2},\n",
       " {'a': 3, 't': 7, 'c': 4, 'g': 10},\n",
       " {'a': 18, 't': 10, 'c': 16, 'g': 16},\n",
       " {'a': 13, 't': 10, 'c': 11, 'g': 18}]"
      ]
     },
     "execution_count": 8,
     "metadata": {},
     "output_type": "execute_result"
    }
   ],
   "source": [
    "result = []\n",
    "for x in range(len(data_strings)):\n",
    "        for key, value in dna_data.items():\n",
    "            dna_data['a'] = data_strings[x].lower().count(\"a\")\n",
    "            dna_data['t'] = data_strings[x].lower().count(\"t\")\n",
    "            dna_data['c'] = data_strings[x].lower().count(\"c\")\n",
    "            dna_data['g'] = data_strings[x].lower().count(\"g\")            \n",
    "        result.append(dna_data.copy())             \n",
    "result\n"
   ]
  }
 ],
 "metadata": {
  "kernelspec": {
   "display_name": "Lab1_Anja_Scherwall_DE25",
   "language": "python",
   "name": "python3"
  },
  "language_info": {
   "codemirror_mode": {
    "name": "ipython",
    "version": 3
   },
   "file_extension": ".py",
   "mimetype": "text/x-python",
   "name": "python",
   "nbconvert_exporter": "python",
   "pygments_lexer": "ipython3",
   "version": "3.12.10"
  }
 },
 "nbformat": 4,
 "nbformat_minor": 5
}
