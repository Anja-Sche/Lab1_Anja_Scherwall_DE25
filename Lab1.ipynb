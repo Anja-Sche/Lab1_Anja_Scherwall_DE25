{
 "cells": [
  {
   "cell_type": "markdown",
   "id": "9c30d34d",
   "metadata": {},
   "source": [
    "# Task 1\n",
    "You are given several simplified sequences of DNA codes. Your task is to count the number of different\n",
    "DNA letters in each sequence. In reality, this is an essential step for scientists to understand the genetic\n",
    "information from the human cell"
   ]
  },
  {
   "cell_type": "code",
   "execution_count": null,
   "id": "96cee356",
   "metadata": {},
   "outputs": [],
   "source": [
    "# read the text file called dna_raw.txt\n",
    "#each sequene is composed of two lines of data: the first line beginning with > sign is the\n",
    "#sequence ID, while the following line is the actual sequence\n",
    "#the actual sequence is not case-sensitive, which means that lower and upper case letters are\n",
    "#treated the same\n",
    "\n",
    "#for each sequence, create a dictionary to count the number of each DNA letter in that sequendce {'a' : x, 't' : x, 'c' : x, 'g' : x}\n",
    "\n",
    "#for each sequence, graph the frequency of DNA letter for each sequence"
   ]
  }
 ],
 "metadata": {
  "kernelspec": {
   "display_name": "Lab1_Anja_Scherwall_DE25",
   "language": "python",
   "name": "python3"
  },
  "language_info": {
   "name": "python",
   "version": "3.12.10"
  }
 },
 "nbformat": 4,
 "nbformat_minor": 5
}
