{
 "cells": [
  {
   "cell_type": "markdown",
   "id": "ecbeca50",
   "metadata": {},
   "source": [
    "# Rough idea of the code\n",
    "\n",
    "- open the file\n",
    "- split the sequenses with .split(), also use .lower() to get all small letters\n",
    "- create a dictionary\n",
    "- count the letters in each sequence\n",
    "- use matplotlib to crate graphs"
   ]
  },
  {
   "cell_type": "code",
   "execution_count": null,
   "id": "fa7c78ca",
   "metadata": {},
   "outputs": [
    {
     "data": {
      "text/plain": [
       "['>seq1\\ncGTAaccaataaaaaaacaagcttaacctaattc',\n",
       " 'seq2\\nagcttagTTTGGatctggccgggg',\n",
       " 'seq3\\ngcggatttactcCCCCCAAAAANNaggggagagcccagataaatggagtctgtgcgtccaca',\n",
       " 'seq4\\ngcggatttactcaggggagagcccagGGataaatggagtctgtgcgtccaca']"
      ]
     },
     "execution_count": 135,
     "metadata": {},
     "output_type": "execute_result"
    }
   ],
   "source": [
    "with open(\"dna_raw.txt\", \"r\") as f: # Open file safely, will aslo close\n",
    "    data_file = f.read()\n",
    "\n",
    "data_file = data_file.split(\"\\n>\") #split the text in to a list\n",
    "\n",
    "data_file"
   ]
  },
  {
   "cell_type": "code",
   "execution_count": null,
   "id": "8eec3364",
   "metadata": {},
   "outputs": [
    {
     "name": "stdout",
     "output_type": "stream",
     "text": [
      "{'a': 0, 't': 0, 'c': 0, 'g': 0}\n"
     ]
    }
   ],
   "source": [
    "#created a dictionary\n",
    "dna_data = {value: 0 for key, value in enumerate(\"atcg\")}\n",
    "\n",
    "print(dna_data)"
   ]
  },
  {
   "cell_type": "code",
   "execution_count": null,
   "id": "c7573174",
   "metadata": {},
   "outputs": [
    {
     "name": "stdout",
     "output_type": "stream",
     "text": [
      "[(17, 7, 8, 2), (3, 7, 4, 10), (18, 10, 16, 16), (13, 10, 11, 18)]\n"
     ]
    }
   ],
   "source": [
    "#alot of tries and error, finding a way that works and then clean\n",
    "#unsure if I should put it in list and merge with dictionary or do it in another way\n",
    "x= 0\n",
    "count =[]\n",
    "count_list = []\n",
    "for x in range(len(data_file)):\n",
    "    a = data_file[x].lower().count(\"a\")\n",
    "    t = data_file[x].lower().count(\"t\")\n",
    "    c = data_file[x].lower().count(\"c\")\n",
    "    g = data_file[x].lower().count(\"g\")\n",
    "    count = a, t, c, g\n",
    "    count_list.append(count)\n",
    "    x += 1\n",
    "print(count_list)"
   ]
  }
 ],
 "metadata": {
  "kernelspec": {
   "display_name": "Lab1_Anja_Scherwall_DE25",
   "language": "python",
   "name": "python3"
  },
  "language_info": {
   "codemirror_mode": {
    "name": "ipython",
    "version": 3
   },
   "file_extension": ".py",
   "mimetype": "text/x-python",
   "name": "python",
   "nbconvert_exporter": "python",
   "pygments_lexer": "ipython3",
   "version": "3.12.10"
  }
 },
 "nbformat": 4,
 "nbformat_minor": 5
}
