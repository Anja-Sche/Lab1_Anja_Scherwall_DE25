{
 "cells": [
  {
   "cell_type": "markdown",
   "id": "ecbeca50",
   "metadata": {},
   "source": [
    "# Rough idea of the code\n",
    "\n",
    "- open the file\n",
    "- split the sequenses with .split(), also use .lower() to get all small letters\n",
    "- create a dictionary\n",
    "- count the letters in each sequence\n",
    "- use matplotlib to crate graphs"
   ]
  },
  {
   "cell_type": "code",
   "execution_count": null,
   "id": "4e3477ea",
   "metadata": {},
   "outputs": [
    {
     "name": "stdout",
     "output_type": "stream",
     "text": [
      ">seq1\n",
      "cgtaaccaataaaaaaacaagcttaacctaattc\n",
      ">seq2\n",
      "agcttagtttggatctggccgggg\n",
      ">seq3\n",
      "gcggatttactccccccaaaaannaggggagagcccagataaatggagtctgtgcgtccaca\n",
      ">seq4\n",
      "gcggatttactcaggggagagcccagggataaatggagtctgtgcgtccaca\n"
     ]
    }
   ],
   "source": [
    "\n",
    "with open(\"dna_raw.txt\", \"r\") as f: # Open file safely, will aslo close\n",
    "    data_file = f.read()\n",
    "\n",
    "print(data_file)"
   ]
  }
 ],
 "metadata": {
  "kernelspec": {
   "display_name": "Lab1_Anja_Scherwall_DE25",
   "language": "python",
   "name": "python3"
  },
  "language_info": {
   "codemirror_mode": {
    "name": "ipython",
    "version": 3
   },
   "file_extension": ".py",
   "mimetype": "text/x-python",
   "name": "python",
   "nbconvert_exporter": "python",
   "pygments_lexer": "ipython3",
   "version": "3.12.10"
  }
 },
 "nbformat": 4,
 "nbformat_minor": 5
}
