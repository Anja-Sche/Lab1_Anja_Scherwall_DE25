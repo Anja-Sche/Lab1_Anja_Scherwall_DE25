{
 "cells": [
  {
   "cell_type": "markdown",
   "id": "ecbeca50",
   "metadata": {},
   "source": [
    "# Rough idea of the code\n",
    "\n",
    "- open the file\n",
    "- split the sequenses with .split(), also use .lower() to get all small letters\n",
    "- create a dictionary\n",
    "- count the letters in each sequence\n",
    "- use matplotlib to crate graphs"
   ]
  },
  {
   "cell_type": "code",
   "execution_count": null,
   "id": "fa7c78ca",
   "metadata": {},
   "outputs": [
    {
     "data": {
      "text/plain": [
       "[{'a': 17, 't': 7, 'c': 8, 'g': 2},\n",
       " {'a': 3, 't': 7, 'c': 4, 'g': 10},\n",
       " {'a': 18, 't': 10, 'c': 16, 'g': 16},\n",
       " {'a': 13, 't': 10, 'c': 11, 'g': 18}]"
      ]
     },
     "execution_count": 82,
     "metadata": {},
     "output_type": "execute_result"
    }
   ],
   "source": [
    "with open(\"dna_raw.txt\", \"r\") as f: # Open file safely, will aslo close\n",
    "    data_file = f.read()\n",
    "data_file = data_file.split(\"\\n>\")\n",
    "\n",
    "#clean the sequences \n",
    "data_strings = []\n",
    "for data in data_file:\n",
    "    y=data[5:].strip(\"\\n\")\n",
    "    data_strings.append(y)\n",
    "data_strings\n",
    "\n",
    "#created a dictionary\n",
    "dna_data = {value: 0 for key, value in enumerate(\"atcg\")}\n",
    "\n",
    "#count each letter ad pair with the letter in the dict\n",
    "#put each dict in a new list\n",
    "result = []\n",
    "for x in range(len(data_strings)):\n",
    "        for key, value in dna_data.items():\n",
    "            dna_data['a'] = data_strings[x].lower().count(\"a\")\n",
    "            dna_data['t'] = data_strings[x].lower().count(\"t\")\n",
    "            dna_data['c'] = data_strings[x].lower().count(\"c\")\n",
    "            dna_data['g'] = data_strings[x].lower().count(\"g\")            \n",
    "        result.append(dna_data.copy())             \n",
    "result"
   ]
  },
  {
   "cell_type": "code",
   "execution_count": 72,
   "id": "4759ecc8",
   "metadata": {},
   "outputs": [
    {
     "data": {
      "text/plain": [
       "['cGTAaccaataaaaaaacaagcttaacctaattc',\n",
       " 'agcttagTTTGGatctggccgggg',\n",
       " 'gcggatttactcCCCCCAAAAANNaggggagagcccagataaatggagtctgtgcgtccaca',\n",
       " 'gcggatttactcaggggagagcccagGGataaatggagtctgtgcgtccaca']"
      ]
     },
     "execution_count": 72,
     "metadata": {},
     "output_type": "execute_result"
    }
   ],
   "source": [
    "x=0\n",
    "for data in data_file:\n",
    "    y = data.strip(\">sqe1234\\n\")\n",
    "    data_file[x]= y\n",
    "    x+=1    \n",
    "data_file\n",
    "\n",
    "#This way works if we only have 4 sequences and only want the letters in the sequences"
   ]
  },
  {
   "cell_type": "code",
   "execution_count": null,
   "id": "446e35d4",
   "metadata": {},
   "outputs": [
    {
     "data": {
      "text/plain": [
       "['cGTAaccaataaaaaaacaagcttaacctaattc',\n",
       " 'agcttagTTTGGatctggccgggg',\n",
       " 'gcggatttactcCCCCCAAAAANNaggggagagcccagataaatggagtctgtgcgtccaca',\n",
       " 'gcggatttactcaggggagagcccagGGataaatggagtctgtgcgtccaca']"
      ]
     },
     "execution_count": 69,
     "metadata": {},
     "output_type": "execute_result"
    }
   ],
   "source": [
    "data_strings = []\n",
    "for data in data_file:\n",
    "    y=data[5:].strip(\"\\n\")\n",
    "    data_strings.append(y)\n",
    "data_strings\n",
    "#This way works if we have an unknown number of sequences \n",
    "# If it is built different, not starting w 'seq..', this way may not work (if we only want the letter in the sequences)"
   ]
  },
  {
   "cell_type": "code",
   "execution_count": 80,
   "id": "d8b5d667",
   "metadata": {},
   "outputs": [
    {
     "name": "stdout",
     "output_type": "stream",
     "text": [
      "[{'a': 17, 't': 7, 'c': 8, 'g': 2}, {'a': 3, 't': 7, 'c': 4, 'g': 10}, {'a': 18, 't': 10, 'c': 16, 'g': 16}, {'a': 13, 't': 10, 'c': 11, 'g': 18}]\n"
     ]
    }
   ],
   "source": [
    "dna_count=[]\n",
    "x=0\n",
    "for key, value in dna_data.items():\n",
    "    dna_data['a'] = data_file[x].lower().count(\"a\")\n",
    "    dna_data['t'] = data_file[x].lower().count(\"t\")\n",
    "    dna_data['c'] = data_file[x].lower().count(\"c\")\n",
    "    dna_data['g'] = data_file[x].lower().count(\"g\")\n",
    "    #print(dna_data)\n",
    "    dna_count.append(dna_data.copy())\n",
    "    x += 1\n",
    "print(dna_count)\n",
    "#Have to figure out why the append() isn't working or if I need to do something else\n",
    "#found information about using '.copy()' in the comments so that each counted sequence gets added in the list\n",
    "#https://stackoverflow.com/questions/5244810/appending-a-dictionary-to-a-list-i-see-a-pointer-like-behavior"
   ]
  }
 ],
 "metadata": {
  "kernelspec": {
   "display_name": "Lab1_Anja_Scherwall_DE25",
   "language": "python",
   "name": "python3"
  },
  "language_info": {
   "codemirror_mode": {
    "name": "ipython",
    "version": 3
   },
   "file_extension": ".py",
   "mimetype": "text/x-python",
   "name": "python",
   "nbconvert_exporter": "python",
   "pygments_lexer": "ipython3",
   "version": "3.12.10"
  }
 },
 "nbformat": 4,
 "nbformat_minor": 5
}
